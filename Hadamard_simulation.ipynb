{
 "cells": [
  {
   "cell_type": "code",
   "execution_count": 116,
   "metadata": {},
   "outputs": [],
   "source": [
    "%matplotlib inline\n",
    "import cmath\n",
    "import numpy as np\n",
    "import scipy.linalg\n",
    "import matplotlib.pyplot as plt"
   ]
  },
  {
   "cell_type": "code",
   "execution_count": 372,
   "metadata": {},
   "outputs": [],
   "source": [
    "# Define certain functions\n",
    "def generate_tm_vec(sigma, size):\n",
    "    \"\"\"Generate a single vector of a transmission matrix.\"\"\"\n",
    "    return (np.random.normal(loc=0.0, scale=sigma, size=size) +\n",
    "        np.random.normal(loc=0.0, scale=sigma, size=size) * 1j)\n",
    "\n",
    "def tm_vec_add_noise(tm_vec, sigma, modify_original=False):\n",
    "    noise_vec = (np.random.normal(loc=0.0, scale=sigma, size=len(tm_vec)) +\n",
    "                 np.random.normal(loc=0.0, scale=sigma, size=len(tm_vec)) * 1j)\n",
    "    if modify_original:\n",
    "        tm_vec += noise_vec\n",
    "        return tm_vec\n",
    "    else:\n",
    "        return tm_vec + noise_vec\n",
    "\n",
    "def tm_vec_add_phase_noise(tm_vec, scale=1.0):\n",
    "    phase_vec = np.random.random_sample(len(tm_vec)) * (2.0 * np.pi * scale)\n",
    "    print\n",
    "    phase_mult_vec = np.cos(phase_vec) + 1j * np.sin(phase_vec)\n",
    "    return tm_vec * phase_mult_vec"
   ]
  },
  {
   "cell_type": "code",
   "execution_count": 402,
   "metadata": {},
   "outputs": [],
   "source": [
    "# Simulation parameters\n",
    "steps_max = 10240\n",
    "noise_sigma = 0.0 #5.0e-4\n",
    "media_changes = False"
   ]
  },
  {
   "cell_type": "code",
   "execution_count": 403,
   "metadata": {},
   "outputs": [],
   "source": [
    "# Constant variables definition\n",
    "slm_side = 32\n",
    "slm_size = slm_side**2                     # SLM size\n",
    "slm_pattern_ref = np.ones(slm_size)        # Reference SLM pattern\n",
    "e_in = 1.0 + 0.0j                          # Incident electric field vector\n",
    "h_matrix = scipy.linalg.hadamard(slm_size) # Hadamard matrix\n",
    "tm_vec_sigma = 1.2e-3\n",
    "tm_vec = generate_tm_vec(tm_vec_sigma, slm_size)    # Vector of a medium's transittion matrix\n",
    "e_ref = np.dot(tm_vec, slm_pattern_ref) * e_in\n",
    "h1_indices = np.fromiter((k for k in range(0, slm_size)), dtype=int)\n",
    "h_1 = h_matrix.take(indices=h1_indices)\n",
    "I_1 = np.abs(np.dot(tm_vec, h_1))**2\n",
    "\n",
    "# Normalize intensity\n",
    "# tm_vec /= I_1\n",
    "# I_1 = np.abs(np.dot(tm_vec, h_1))**2\n",
    "# e_ref = np.dot(tm_vec, slm_pattern_ref) * e_in\n",
    "\n",
    "align_multiplier = np.cos(-np.angle(e_ref))+1j * np.sin(-np.angle(e_ref))\n",
    "tm_vec = tm_vec * align_multiplier"
   ]
  },
  {
   "cell_type": "code",
   "execution_count": 404,
   "metadata": {},
   "outputs": [],
   "source": [
    "# Variable values definition\n",
    "slm_pattern = np.zeros(slm_size, dtype=np.float64)            # Actual SLM pattern\n",
    "enh_history = np.zeros(steps_max, dtype=np.float64)\n",
    "tm_vec_est = np.zeros(slm_size, dtype=np.float64)"
   ]
  },
  {
   "cell_type": "code",
   "execution_count": 405,
   "metadata": {},
   "outputs": [],
   "source": [
    "# Calculate initial enhancement\n",
    "samples_num = 100000\n",
    "I_init = 0.0\n",
    "for i in range(0, samples_num):\n",
    "    tm_vec_temp = generate_tm_vec(tm_vec_sigma, slm_size)\n",
    "    I_init += np.abs(np.dot(tm_vec_temp, h_1) * e_in)**2\n",
    "I_init = I_init / samples_num / 2.0"
   ]
  },
  {
   "cell_type": "code",
   "execution_count": 406,
   "metadata": {},
   "outputs": [
    {
     "name": "stdout",
     "output_type": "stream",
     "text": [
      "Original transmission matrix (real part):\n",
      "[-0.00051983  0.00145002  0.00181439 ... -0.00121738 -0.0005293\n",
      " -0.00061153]\n",
      "Estimated transmission matrix (real part):\n",
      "[-0.00051983  0.00145002  0.00181439 ... -0.00121738 -0.0005293\n",
      " -0.00061153]\n",
      "Correct estimations: 1024/1024\n",
      "Opened pixels: 527/1024\n",
      "Optimal SLM pattern:\n"
     ]
    },
    {
     "data": {
      "image/png": "[encoded data removed]",
      "text/plain": [
       "<Figure size 288x288 with 1 Axes>"
      ]
     },
     "metadata": {
      "needs_background": "light"
     },
     "output_type": "display_data"
    },
    {
     "name": "stdout",
     "output_type": "stream",
     "text": [
      "Initial intensity: 0.0014657817211028556\n",
      "Optimal intensity: 0.2457505605070981\n",
      "Theoretical intensity: 0.2457505605070981\n",
      "Enhancement: 167.65836070202536\n",
      "Fluctuating media simulation\n"
     ]
    },
    {
     "data": {
      "image/png": "[encoded data removed]",
      "text/plain": [
       "<Figure size 432x288 with 1 Axes>"
      ]
     },
     "metadata": {
      "needs_background": "light"
     },
     "output_type": "display_data"
    }
   ],
   "source": [
    "Re_signal = np.zeros(slm_size, dtype=np.float64)\n",
    "tm_vec_est = np.zeros(slm_size, dtype=np.float64)\n",
    "slm_pattern = np.zeros(slm_size, dtype=np.float64)\n",
    "\n",
    "# Transmission matrix estimation\n",
    "tm_vec_var = tm_vec.copy()\n",
    "for slm_pix in range(0, slm_size):\n",
    "    if noise_sigma != 0.0:\n",
    "        if media_changes:\n",
    "            tm_vec_var = tm_vec_add_noise(tm_vec_var, noise_sigma)\n",
    "            # Normalize transmission matrix\n",
    "            # tm_vec_mag_old = np.abs(np.dot(tm_vec_var, np.conjugate(tm_vec_var)))\n",
    "            # tm_vec_var = tm_vec_add_noise(tm_vec_var, noise_sigma)\n",
    "            # tm_vec_mag_new = np.abs(np.dot(tm_vec_var, np.conjugate(tm_vec_var)))\n",
    "            # tm_vec_var *= tm_vec_mag_old / tm_vec_mag_new\n",
    "        else:\n",
    "            tm_vec_var = tm_vec_add_noise(tm_vec, noise_sigma)\n",
    "        # Normalize intensity\n",
    "        # tm_vec_var /= np.abs(np.dot(tm_vec_var, h_1))**2\n",
    "    \n",
    "    h_indices = np.fromiter((k + slm_pix * slm_size for k in range(0, slm_size)), dtype=int)\n",
    "    h_i = h_matrix.take(indices=h_indices)\n",
    "    v_plus = (h_1 + h_i) / 2.0\n",
    "    v_minus = (h_1 - h_i) / 2.0\n",
    "    I_plus = np.abs(np.dot(tm_vec_var, v_plus))**2\n",
    "    I_minus = np.abs(np.dot(tm_vec_var, v_minus))**2\n",
    "    Re_signal[slm_pix] = (I_plus - I_minus) / np.sqrt(I_1)\n",
    "\n",
    "if not media_changes:\n",
    "    tm_vec_var = tm_vec\n",
    "\n",
    "for i in range(0, slm_size):\n",
    "    h_indices = np.fromiter((k + i * slm_size for k in range(0, slm_size)), dtype=int)\n",
    "    h_i = h_matrix.take(indices=h_indices)\n",
    "    tm_vec_est += Re_signal[i] * h_i / slm_size\n",
    "\n",
    "# Estimate the optimal SLM pattern\n",
    "opened_pixels = 0\n",
    "for i in range(0, slm_size):\n",
    "    if tm_vec_est[i] >= 0.0:\n",
    "        slm_pattern[i] = 1.0\n",
    "        opened_pixels += 1\n",
    "\n",
    "correct_estimations = 0\n",
    "for i in range(0, slm_size):\n",
    "    if np.sign(tm_vec_est[i]) == np.sign(tm_vec[i]):\n",
    "        correct_estimations += 1\n",
    "\n",
    "print(\"Original transmission matrix (real part):\")\n",
    "print(tm_vec.real)\n",
    "print(\"Estimated transmission matrix (real part):\")\n",
    "print(tm_vec_est)\n",
    "print(\"Correct estimations: {0}/{1}\".format(correct_estimations, len(tm_vec)))\n",
    "print(\"Opened pixels: {0}/{1}\".format(opened_pixels, len(tm_vec)))\n",
    "        \n",
    "print(\"Optimal SLM pattern:\")\n",
    "plt.matshow(slm_pattern.reshape((slm_side, slm_side)))\n",
    "plt.show()\n",
    "\n",
    "I_opt = np.abs(np.dot(tm_vec_var, slm_pattern) * e_in)**2\n",
    "enh = I_opt / I_init\n",
    "\n",
    "print(\"Initial intensity: {0}\".format(I_init))\n",
    "print(\"Optimal intensity: {0}\".format(I_opt))\n",
    "print(\"Theoretical intensity: {0}\".format(np.abs(np.dot(tm_vec, slm_pattern) * e_in)**2))\n",
    "print(\"Enhancement: {0}\".format(enh))\n",
    "\n",
    "# Simulation of the fluctuating medium\n",
    "enh_history[slm_size - 1] = enh\n",
    "\n",
    "for i in range(slm_size, steps_max):\n",
    "    if noise_sigma != 0.0:\n",
    "        tm_vec_var = tm_vec_add_noise(tm_vec, noise_sigma, media_changes)\n",
    "    I_opt = np.abs(np.dot(tm_vec_var, slm_pattern) * e_in)**2\n",
    "    enh_history[i] = I_opt / I_init\n",
    "\n",
    "print(\"Fluctuating media simulation\")\n",
    "plt.plot(enh_history)\n",
    "plt.show()"
   ]
  },
  {
   "cell_type": "code",
   "execution_count": 255,
   "metadata": {},
   "outputs": [],
   "source": [
    "# Old code below"
   ]
  },
  {
   "cell_type": "code",
   "execution_count": 182,
   "metadata": {},
   "outputs": [],
   "source": [
    "# Constants\n",
    "SLM_size = 1024\n",
    "# Set the incident electric field vector\n",
    "e_in = 1.0 + 0.0j\n",
    "# Set the reference SLM pattern\n",
    "a_ref = np.ones(SLM_size)\n",
    "# Define a Hadamard matrix\n",
    "h_matrix = scipy.linalg.hadamard(SLM_size)"
   ]
  },
  {
   "cell_type": "code",
   "execution_count": 183,
   "metadata": {},
   "outputs": [],
   "source": [
    "# SLM vector\n",
    "a_vec = np.ones(SLM_size)"
   ]
  },
  {
   "cell_type": "code",
   "execution_count": 184,
   "metadata": {},
   "outputs": [],
   "source": [
    "# Calculate random transmission matrix\n",
    "K_vec_real = np.random.normal(loc=0.0, scale=1.0, size=SLM_size)\n",
    "K_vec_imaginary = np.random.normal(loc=0.0, scale=1.0, size=SLM_size)\n",
    "# K_vec = K_vec_real + K_vec_imaginary * 1j\n",
    "# del K_vec_real, K_vec_imaginary"
   ]
  },
  {
   "cell_type": "code",
   "execution_count": 188,
   "metadata": {},
   "outputs": [],
   "source": [
    "# Calculate the reference intensity at the observation (focusing) point\n",
    "K_vec = K_vec_real + K_vec_imaginary * 1j\n",
    "e_ref = np.dot(K_vec, a_ref) * e_in\n",
    "align_multiplier = np.cos(-np.angle(e_ref))+1j * np.sin(-np.angle(e_ref))\n",
    "K_vec = K_vec * align_multiplier\n",
    "e_ref = np.dot(K_vec, a_ref) * e_in\n",
    "i_ref = np.abs(np.dot(K_vec, a_ref) * e_in)"
   ]
  },
  {
   "cell_type": "code",
   "execution_count": 170,
   "metadata": {},
   "outputs": [
    {
     "name": "stdout",
     "output_type": "stream",
     "text": [
      "Original Re(E_H):\n",
      "[ 26.67127723  -1.56464577 -55.69839908 ...  33.03460797   4.32865891\n",
      " -59.34517881]\n",
      "Recovered Re(E_H):\n",
      "[40.00691584  7.79259854 12.68172117 ... 53.6627494  52.4385171\n",
      " 91.58448005]\n"
     ]
    }
   ],
   "source": [
    "# Calculate the output electric field for all Hadamard modes\n",
    "e_h_vec = np.zeros(SLM_size, dtype=np.complex128)\n",
    "e_RH_vec = np.zeros(SLM_size, dtype=np.complex128)\n",
    "Re_e_H_vec = np.zeros(SLM_size, dtype=np.complex128)\n",
    "for i in range(0, SLM_size):\n",
    "    indices = np.fromiter((k + i * SLM_size for k in range(0, SLM_size)), dtype=int)\n",
    "    h_vec = h_matrix.take(indices=indices)\n",
    "    e_h_vec[i] = np.dot(K_vec, h_vec) * e_in\n",
    "    e_RH_vec[i] = (e_h_vec[i] + e_ref)\n",
    "#     Re_e_H_vec[i] = 0.5 * np.abs(e_ref) * (\n",
    "#         np.abs(e_RH_vec[i])**2 / np.abs(e_ref)**2 - np.abs(e_h_vec[i])**2 / np.abs(e_ref)**2 - 1.0)\n",
    "    Re_e_H_vec[i] = 0.5 * np.abs(e_ref) * (\n",
    "        np.abs(e_RH_vec[i])**2 / np.abs(e_ref)**2 - 1.0)\n",
    "print(\"Original Re(E_H):\\n{0}\".format(np.real(e_h_vec)))\n",
    "print(\"Recovered Re(E_H):\\n{0}\".format(np.real(Re_e_H_vec)))"
   ]
  },
  {
   "cell_type": "code",
   "execution_count": 171,
   "metadata": {},
   "outputs": [
    {
     "name": "stdout",
     "output_type": "stream",
     "text": [
      "J = [2893636.91774479 -115668.98815511  -79401.64135419 ...   83042.4110317\n",
      "   64812.2281569  -155298.73611352]\n",
      "A_opt = [1 0 0 ... 1 1 0]\n",
      "Number of ones: 515\n"
     ]
    }
   ],
   "source": [
    "J_vec = np.zeros(SLM_size, dtype=np.float64)\n",
    "for i in range(0, SLM_size):\n",
    "    indices = np.fromiter((k + i * SLM_size for k in range(0, SLM_size)), dtype=int)\n",
    "    h_vec = h_matrix.take(indices=indices)\n",
    "    J_vec += np.abs(e_RH_vec[i]**2) * h_vec\n",
    "print(\"J = {0}\".format(J_vec))\n",
    "\n",
    "A_opt = np.zeros(SLM_size, dtype=np.uint8)\n",
    "for i in range(0, SLM_size):\n",
    "    if J_vec[i] >= 0.0:\n",
    "        A_opt[i] = 1\n",
    "print(\"A_opt = {0}\".format(A_opt))\n",
    "print(\"Number of ones: {0}\".format(np.sum(A_opt)))"
   ]
  },
  {
   "cell_type": "code",
   "execution_count": 172,
   "metadata": {},
   "outputs": [
    {
     "name": "stdout",
     "output_type": "stream",
     "text": [
      "I_ideal = 190976.86545469682\n"
     ]
    }
   ],
   "source": [
    "A_ideal = np.zeros(SLM_size, dtype=np.float64)\n",
    "for i in range(0, SLM_size):\n",
    "    # print(np.angle(K_vec[i]))\n",
    "    if np.angle(K_vec[i]) > -np.pi / 2.0 and np.angle(K_vec[i]) < np.pi / 2.0:\n",
    "        A_ideal[i] = 1\n",
    "I_ideal = np.abs(np.dot(K_vec, A_ideal) * e_in)**2\n",
    "print(\"I_ideal = {0}\".format(I_ideal))"
   ]
  },
  {
   "cell_type": "code",
   "execution_count": 173,
   "metadata": {},
   "outputs": [
    {
     "name": "stdout",
     "output_type": "stream",
     "text": [
      "I_opt = 73587.65637049713\n",
      "I_init = 711.3570289279787\n",
      "enh = 103.44686757561723\n"
     ]
    }
   ],
   "source": [
    "# Calculate optimized intensity\n",
    "I_init = np.abs(np.dot(K_vec, a_ref) * e_in)**2\n",
    "I_opt = np.abs(np.dot(K_vec, A_opt) * e_in)**2\n",
    "print(\"I_opt = {0}\".format(I_opt))\n",
    "print(\"I_init = {0}\".format(I_init))\n",
    "print(\"enh = {0}\".format(I_opt / I_init))"
   ]
  },
  {
   "cell_type": "code",
   "execution_count": 174,
   "metadata": {},
   "outputs": [],
   "source": [
    "h_matrix_tr = np.transpose(h_matrix)\n",
    "e_h_vec_re = np.real(e_h_vec)\n",
    "re_ke0 = np.dot(e_h_vec_re, h_matrix_tr) / SLM_size"
   ]
  },
  {
   "cell_type": "code",
   "execution_count": 175,
   "metadata": {},
   "outputs": [
    {
     "name": "stdout",
     "output_type": "stream",
     "text": [
      "(26.67127722715916+3.019806626980426e-14j)\n"
     ]
    }
   ],
   "source": [
    "print(e_ref)"
   ]
  },
  {
   "cell_type": "code",
   "execution_count": 176,
   "metadata": {},
   "outputs": [
    {
     "name": "stdout",
     "output_type": "stream",
     "text": [
      "(1-1.1322317267601192e-15j)\n",
      "0.0\n",
      "-2.6640746512002823e-16\n"
     ]
    }
   ],
   "source": [
    "# print(np.angle(e_ref))\n",
    "align_multiplier = np.cos(-np.angle(e_ref))+1j * np.sin(-np.angle(e_ref))\n",
    "print(align_multiplier)\n",
    "print(np.angle(e_ref * align_multiplier))\n",
    "print(np.angle(np.dot(K_vec * align_multiplier, a_ref) * e_in))\n",
    "# print(np.dot(e_ref))"
   ]
  },
  {
   "cell_type": "code",
   "execution_count": 177,
   "metadata": {},
   "outputs": [
    {
     "name": "stdout",
     "output_type": "stream",
     "text": [
      "(26.67127722715916+3.019806626980426e-14j)\n"
     ]
    }
   ],
   "source": [
    "print(e_ref)"
   ]
  },
  {
   "cell_type": "code",
   "execution_count": 178,
   "metadata": {},
   "outputs": [
    {
     "name": "stdout",
     "output_type": "stream",
     "text": [
      "1.0000000000000009\n"
     ]
    }
   ],
   "source": [
    "eref = 10.0 + 0.0j\n",
    "eh = 1.0 + 1.0j\n",
    "erh = eh + eref\n",
    "re_eh = 0.5 * np.abs(eref) * (np.abs(erh)**2 / np.abs(eref)**2 - np.abs(eh)**2 / np.abs(eref)**2 - 1.0)\n",
    "print(re_eh)"
   ]
  },
  {
   "cell_type": "code",
   "execution_count": 186,
   "metadata": {},
   "outputs": [],
   "source": [
    "# Calculate initial intensity\n",
    "I_init_1 = 0.0\n",
    "for i in range(0, 100000):\n",
    "    K_vec_real_init = np.random.normal(loc=0.0, scale=1.0, size=SLM_size)\n",
    "    K_vec_imaginary_init = np.random.normal(loc=0.0, scale=1.0, size=SLM_size)\n",
    "    K_vec_init = K_vec_real_init + K_vec_imaginary_init * 1j\n",
    "    I_init_1 += np.abs(np.dot(K_vec_init, h_1) * e_in)**2\n",
    "I_init_1 /= 100000.0"
   ]
  },
  {
   "cell_type": "code",
   "execution_count": 190,
   "metadata": {},
   "outputs": [
    {
     "name": "stdout",
     "output_type": "stream",
     "text": [
      "I_opt = 182431.6122056215\n",
      "I_init = 2043.498594460787\n",
      "enh = 89.27415595006038\n",
      "[-0.03350306 -0.89716231  0.03898117 ...  0.65343115 -0.86578894\n",
      "  0.60665817]\n",
      "[-0.03350306 -0.89716231  0.03898117 ...  0.65343115 -0.86578894\n",
      "  0.60665817]\n",
      "[ 26.0374333    8.26809649  30.05748599 ...  46.80052764 -41.74403207\n",
      " -25.38672962]\n"
     ]
    }
   ],
   "source": [
    "# Second approach\n",
    "h1_indices = np.fromiter((k for k in range(0, SLM_size)), dtype=int)\n",
    "h_1 = h_matrix.take(indices=h1_indices)\n",
    "I_1 = np.abs(np.dot(K_vec, h_1))**2\n",
    "Re_signal = np.zeros(SLM_size, dtype=np.float64)\n",
    "for i in range(0, SLM_size):\n",
    "    indices = np.fromiter((k + i * SLM_size for k in range(0, SLM_size)), dtype=int)\n",
    "    h_i = h_matrix.take(indices=indices)\n",
    "    v_plus = (h_1 + h_i) / 2.0\n",
    "    v_minus = (h_1 - h_i) / 2.0\n",
    "    I_plus = np.abs(np.dot(K_vec, v_plus))**2\n",
    "    I_minus = np.abs(np.dot(K_vec, v_minus))**2\n",
    "    Re_signal[i] = (I_plus - I_minus) / np.sqrt(I_1)\n",
    "\n",
    "# Estimate the real part of the transmission matrix\n",
    "T_est = np.zeros(SLM_size, dtype=np.float64)\n",
    "for i in range(0, SLM_size):\n",
    "    indices = np.fromiter((k + i * SLM_size for k in range(0, SLM_size)), dtype=int)\n",
    "    h_i = h_matrix.take(indices=indices)\n",
    "    T_est += Re_signal[i] * h_i / SLM_size\n",
    "\n",
    "A_est = np.zeros(SLM_size, dtype=np.float64)\n",
    "for i in range(0, SLM_size):\n",
    "    if T_est[i] >= 0:\n",
    "        A_est[i] = 1.0\n",
    "\n",
    "I_init = np.abs(np.dot(K_vec, h_1) * e_in)**2\n",
    "I_opt = np.abs(np.dot(K_vec, A_est) * e_in)**2\n",
    "print(\"I_opt = {0}\".format(I_opt))\n",
    "print(\"I_init = {0}\".format(I_init_1))\n",
    "print(\"enh = {0}\".format(I_opt / I_init_1))\n",
    "print(K_vec.real)\n",
    "print(T_est)\n",
    "print(Re_signal)"
   ]
  },
  {
   "cell_type": "code",
   "execution_count": 40,
   "metadata": {},
   "outputs": [],
   "source": [
    "for i in range(0, SLM_size):\n",
    "    indices = np.fromiter((k + i * SLM_size for k in range(0, SLM_size)), dtype=int)\n",
    "    h_i = h_matrix.take(indices=indices)"
   ]
  },
  {
   "cell_type": "code",
   "execution_count": 76,
   "metadata": {},
   "outputs": [
    {
     "name": "stdout",
     "output_type": "stream",
     "text": [
      "I_opt = 204178.82867572087\n",
      "I_init = 2044.274345375679\n",
      "enh = 99.87838918860895\n"
     ]
    }
   ],
   "source": [
    "# Second approach with transmission matrix noise\n",
    "h1_indices = np.fromiter((k for k in range(0, SLM_size)), dtype=int)\n",
    "h_1 = h_matrix.take(indices=h1_indices)\n",
    "I_1 = np.abs(np.dot(K_vec, h_1))**2\n",
    "Re_signal = np.zeros(SLM_size, dtype=np.float64)\n",
    "for i in range(0, SLM_size):\n",
    "    # Generate noise vecor\n",
    "    noise_real = np.random.normal(loc=0.0, scale=0.05, size=SLM_size)\n",
    "    noise_imaginary = np.random.normal(loc=0.0, scale=0.05, size=SLM_size)\n",
    "    noise_vec = noise_real + noise_imaginary * 1j\n",
    "    \n",
    "    K_vec_wnoise = K_vec + noise_vec\n",
    "    indices = np.fromiter((k + i * SLM_size for k in range(0, SLM_size)), dtype=int)\n",
    "    h_i = h_matrix.take(indices=indices)\n",
    "    v_plus = (h_1 + h_i) / 2.0\n",
    "    v_minus = (h_1 - h_i) / 2.0\n",
    "    I_plus = np.abs(np.dot(K_vec_wnoise, v_plus))**2\n",
    "    I_minus = np.abs(np.dot(K_vec_wnoise, v_minus))**2\n",
    "    Re_signal[i] = (I_plus - I_minus) / np.sqrt(I_1)\n",
    "\n",
    "# Estimate the real part of the transmission matrix\n",
    "T_est = np.zeros(SLM_size, dtype=np.float64)\n",
    "for i in range(0, SLM_size):\n",
    "    indices = np.fromiter((k + i * SLM_size for k in range(0, SLM_size)), dtype=int)\n",
    "    h_i = h_matrix.take(indices=indices)\n",
    "    T_est += Re_signal[i] * h_i / SLM_size\n",
    "\n",
    "A_est = np.zeros(SLM_size, dtype=np.float64)\n",
    "for i in range(0, SLM_size):\n",
    "    if T_est[i] >= 0:\n",
    "        A_est[i] = 1.0\n",
    "\n",
    "I_init = np.abs(np.dot(K_vec, h_1) * e_in)**2\n",
    "I_opt = np.abs(np.dot(K_vec_wnoise, A_est) * e_in)**2\n",
    "print(\"I_opt = {0}\".format(I_opt))\n",
    "print(\"I_init = {0}\".format(I_init_1))\n",
    "print(\"enh = {0}\".format(I_opt / I_init_1))"
   ]
  },
  {
   "cell_type": "code",
   "execution_count": 107,
   "metadata": {},
   "outputs": [
    {
     "data": {
      "text/plain": [
       "array([1.        +0.j        , 0.70710678+0.70710678j])"
      ]
     },
     "execution_count": 107,
     "metadata": {},
     "output_type": "execute_result"
    }
   ],
   "source": [
    "np.sqrt([1+0j, 0+1j])"
   ]
  },
  {
   "cell_type": "code",
   "execution_count": 287,
   "metadata": {},
   "outputs": [
    {
     "data": {
      "text/plain": [
       "48905.99700194136"
      ]
     },
     "execution_count": 287,
     "metadata": {},
     "output_type": "execute_result"
    }
   ],
   "source": [
    "np.abs(np.dot(np.conjugate(tm_vec_var), tm_vec_var))"
   ]
  },
  {
   "cell_type": "code",
   "execution_count": 396,
   "metadata": {},
   "outputs": [
    {
     "name": "stdout",
     "output_type": "stream",
     "text": [
      "4.732851874207319\n",
      "4.732851874207318\n"
     ]
    }
   ],
   "source": [
    "tm_vec_mod = tm_vec_add_phase_noise(tm_vec, scale=0.1)\n",
    "tm_vec_mod_int = np.abs(np.dot(tm_vec_mod, np.conjugate(tm_vec_mod)))\n",
    "print(np.abs(np.dot(tm_vec, np.conjugate(tm_vec))))\n",
    "print(tm_vec_mod_int)"
   ]
  },
  {
   "cell_type": "code",
   "execution_count": null,
   "metadata": {},
   "outputs": [],
   "source": []
  },
  {
   "cell_type": "code",
   "execution_count": null,
   "metadata": {},
   "outputs": [],
   "source": []
  }
 ],
 "metadata": {
  "kernelspec": {
   "display_name": "Python 3",
   "language": "python",
   "name": "python3"
  },
  "language_info": {
   "codemirror_mode": {
    "name": "ipython",
    "version": 3
   },
   "file_extension": ".py",
   "mimetype": "text/x-python",
   "name": "python",
   "nbconvert_exporter": "python",
   "pygments_lexer": "ipython3",
   "version": "3.7.3"
  }
 },
 "nbformat": 4,
 "nbformat_minor": 2
}
